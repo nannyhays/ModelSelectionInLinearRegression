{
 "cells": [
  {
   "cell_type": "code",
   "execution_count": 15,
   "id": "14dd23fb-42f1-40d5-bd7d-936e21983acf",
   "metadata": {},
   "outputs": [],
   "source": [
    "import pandas as pd\n",
    "import numpy as np\n",
    "#from mlxtend.feature_selection import SequentialFeatureSelector as SFS\n",
    "from mlxtend.feature_selection import SequentialFeatureSelector\n",
    "from mlxtend.feature_selection import ExhaustiveFeatureSelector as EFS\n",
    "from sklearn.linear_model import LinearRegression\n",
    "from sklearn.datasets import make_regression"
   ]
  },
  {
   "cell_type": "code",
   "execution_count": 19,
   "id": "481491c7-7b38-47dc-8fd5-19e5e23058a3",
   "metadata": {},
   "outputs": [],
   "source": [
    "#from sklearn import linear_model\n",
    "from sklearn.model_selection import train_test_split\n",
    "from sklearn.metrics import accuracy_score\n",
    "credit = pd.read_csv('Credit.csv')"
   ]
  },
  {
   "cell_type": "code",
   "execution_count": 29,
   "id": "569cf055-2ccd-4d3f-ade5-cfc26e05f488",
   "metadata": {},
   "outputs": [
    {
     "data": {
      "text/html": [
       "<div>\n",
       "<style scoped>\n",
       "    .dataframe tbody tr th:only-of-type {\n",
       "        vertical-align: middle;\n",
       "    }\n",
       "\n",
       "    .dataframe tbody tr th {\n",
       "        vertical-align: top;\n",
       "    }\n",
       "\n",
       "    .dataframe thead th {\n",
       "        text-align: right;\n",
       "    }\n",
       "</style>\n",
       "<table border=\"1\" class=\"dataframe\">\n",
       "  <thead>\n",
       "    <tr style=\"text-align: right;\">\n",
       "      <th></th>\n",
       "      <th>Income</th>\n",
       "      <th>Limit</th>\n",
       "      <th>Rating</th>\n",
       "      <th>Cards</th>\n",
       "      <th>Age</th>\n",
       "      <th>Education</th>\n",
       "      <th>Balance</th>\n",
       "      <th>Own_Yes</th>\n",
       "      <th>Student_Yes</th>\n",
       "      <th>Married_Yes</th>\n",
       "      <th>Region_South</th>\n",
       "      <th>Region_West</th>\n",
       "    </tr>\n",
       "  </thead>\n",
       "  <tbody>\n",
       "    <tr>\n",
       "      <th>0</th>\n",
       "      <td>14.891</td>\n",
       "      <td>3606</td>\n",
       "      <td>283</td>\n",
       "      <td>2</td>\n",
       "      <td>34</td>\n",
       "      <td>11</td>\n",
       "      <td>333</td>\n",
       "      <td>0</td>\n",
       "      <td>0</td>\n",
       "      <td>1</td>\n",
       "      <td>1</td>\n",
       "      <td>0</td>\n",
       "    </tr>\n",
       "    <tr>\n",
       "      <th>1</th>\n",
       "      <td>106.025</td>\n",
       "      <td>6645</td>\n",
       "      <td>483</td>\n",
       "      <td>3</td>\n",
       "      <td>82</td>\n",
       "      <td>15</td>\n",
       "      <td>903</td>\n",
       "      <td>1</td>\n",
       "      <td>1</td>\n",
       "      <td>1</td>\n",
       "      <td>0</td>\n",
       "      <td>1</td>\n",
       "    </tr>\n",
       "    <tr>\n",
       "      <th>2</th>\n",
       "      <td>104.593</td>\n",
       "      <td>7075</td>\n",
       "      <td>514</td>\n",
       "      <td>4</td>\n",
       "      <td>71</td>\n",
       "      <td>11</td>\n",
       "      <td>580</td>\n",
       "      <td>0</td>\n",
       "      <td>0</td>\n",
       "      <td>0</td>\n",
       "      <td>0</td>\n",
       "      <td>1</td>\n",
       "    </tr>\n",
       "  </tbody>\n",
       "</table>\n",
       "</div>"
      ],
      "text/plain": [
       "    Income  Limit  Rating  Cards  Age  Education  Balance  Own_Yes  \\\n",
       "0   14.891   3606     283      2   34         11      333        0   \n",
       "1  106.025   6645     483      3   82         15      903        1   \n",
       "2  104.593   7075     514      4   71         11      580        0   \n",
       "\n",
       "   Student_Yes  Married_Yes  Region_South  Region_West  \n",
       "0            0            1             1            0  \n",
       "1            1            1             0            1  \n",
       "2            0            0             0            1  "
      ]
     },
     "execution_count": 29,
     "metadata": {},
     "output_type": "execute_result"
    }
   ],
   "source": [
    "credit = pd.get_dummies(credit, columns = [\"Own\",\"Student\",\"Married\",\"Region\"],\n",
    "dtype=int,drop_first = True)\n",
    "credit.head(3)"
   ]
  },
  {
   "cell_type": "code",
   "execution_count": 31,
   "id": "4314c55c-299e-41c1-8a10-b89f4d7d700a",
   "metadata": {},
   "outputs": [
    {
     "name": "stderr",
     "output_type": "stream",
     "text": [
      "Features: 2047/2047"
     ]
    },
    {
     "name": "stdout",
     "output_type": "stream",
     "text": [
      "Best accuracy score: 0.95\n",
      "Best subset (indices): (0, 1, 2, 3, 4, 7)\n",
      "Best subset (corresponding names): ('Income', 'Limit', 'Rating', 'Cards', 'Age', 'Student_Yes')\n"
     ]
    }
   ],
   "source": [
    "#Initialization variables Best Subset\n",
    "Y = credit.Balance\n",
    "X = credit.drop(columns = 'Balance', axis = 1)\n",
    "model = LinearRegression()\n",
    "# Running Best subset Regression\n",
    "sfs_bestsubset = EFS(model, min_features=1, max_features=11, scoring='r2', cv=5)\n",
    "sfs_bestsubset.fit(X, Y)\n",
    "print('Best accuracy score: %.2f' % sfs_bestsubset.best_score_)\n",
    "print('Best subset (indices):', sfs_bestsubset.best_idx_)\n",
    "#Listing the best subset\n",
    "print('Best subset (corresponding names):', sfs_bestsubset.best_feature_names_)"
   ]
  },
  {
   "cell_type": "code",
   "execution_count": 33,
   "id": "18b449f5-f515-4b63-b331-00e307792b17",
   "metadata": {},
   "outputs": [
    {
     "name": "stdout",
     "output_type": "stream",
     "text": [
      "Forward Selection - Selected Features: ('Income', 'Limit', 'Rating', 'Cards', 'Age', 'Student_Yes')\n",
      "forward score: 0.9515414705653548\n"
     ]
    }
   ],
   "source": [
    "# Running Forward Stepwise Regression - Need to set 'forward' to True\n",
    "sfs_forward = SequentialFeatureSelector(model, k_features='best', forward=True,\n",
    "floating=False, scoring='r2', cv=5)\n",
    "sfs_forward.fit(X, Y)\n",
    "\n",
    "#Listing the selected feature indices at each step for forward stepwise Regression:\n",
    "sfs_forward.subsets_\n",
    "\n",
    "#Printing the best forward selection features\n",
    "print(\"Forward Selection - Selected Features:\", sfs_forward.k_feature_names_)\n",
    "\n",
    "#Getting prediction score for best selected features for forward selection\n",
    "print('forward score:', sfs_forward.k_score_)"
   ]
  },
  {
   "cell_type": "code",
   "execution_count": 35,
   "id": "8482c958-f839-4075-8d3e-0cda4c8a4556",
   "metadata": {},
   "outputs": [
    {
     "name": "stdout",
     "output_type": "stream",
     "text": [
      "Backward Selection - Selected Features: ('Income', 'Limit', 'Rating', 'Cards', 'Age', 'Student_Yes')\n"
     ]
    }
   ],
   "source": [
    "# Running backward Stepwise Regression - Need to set 'forward' to False\n",
    "sfs_backward = SequentialFeatureSelector(model, k_features='best', forward=False,\n",
    "floating=False, scoring='r2', cv=5)\n",
    "sfs_backward.fit(X, Y)\n",
    "#Listing the selected feature indices at each step for backward stepwise Regression:\n",
    "sfs_backward.subsets_\n",
    "#Printing the best backward selection features\n",
    "print(\"Backward Selection - Selected Features:\", sfs_backward.k_feature_names_)"
   ]
  },
  {
   "cell_type": "code",
   "execution_count": 37,
   "id": "88a29135-7d5b-482b-aa3c-8564b946fc4c",
   "metadata": {},
   "outputs": [
    {
     "data": {
      "text/plain": [
       "(0, 2, 7)"
      ]
     },
     "execution_count": 37,
     "metadata": {},
     "output_type": "execute_result"
    }
   ],
   "source": [
    "#Selecting the best k number of selected set of features for forward selection - Example k=3\n",
    "sfs_forward = SequentialFeatureSelector(model, k_features=3, forward=True, floating=False,\n",
    "scoring='r2', cv=5)\n",
    "sfs_forward.fit(X, Y)\n",
    "sfs_forward.k_feature_idx_"
   ]
  },
  {
   "cell_type": "code",
   "execution_count": 39,
   "id": "f5ca0fa8-1bbb-4172-8e09-103b0d148671",
   "metadata": {},
   "outputs": [
    {
     "name": "stdout",
     "output_type": "stream",
     "text": [
      "Forward selection Best subset (corresponding names): ('Income', 'Rating', 'Student_Yes')\n"
     ]
    }
   ],
   "source": [
    "#Printing the first the best k features\n",
    "print('Forward selection Best subset (corresponding names):', sfs_forward.k_feature_names_)\n"
   ]
  },
  {
   "cell_type": "code",
   "execution_count": 41,
   "id": "bdf14426-9046-4099-b04a-55398ae05d00",
   "metadata": {},
   "outputs": [
    {
     "name": "stdout",
     "output_type": "stream",
     "text": [
      "Backward selectionBest subset (corresponding names): ('Income', 'Limit', 'Rating', 'Cards', 'Age', 'Student_Yes')\n"
     ]
    }
   ],
   "source": [
    "#Printing the first the best k features\n",
    "print('Backward selectionBest subset (corresponding names):', sfs_backward.k_feature_names_)"
   ]
  },
  {
   "cell_type": "code",
   "execution_count": 45,
   "id": "808ebc56-7b4b-4b0b-a1c7-017b4b511f9f",
   "metadata": {},
   "outputs": [
    {
     "data": {
      "text/html": [
       "<div>\n",
       "<style scoped>\n",
       "    .dataframe tbody tr th:only-of-type {\n",
       "        vertical-align: middle;\n",
       "    }\n",
       "\n",
       "    .dataframe tbody tr th {\n",
       "        vertical-align: top;\n",
       "    }\n",
       "\n",
       "    .dataframe thead th {\n",
       "        text-align: right;\n",
       "    }\n",
       "</style>\n",
       "<table border=\"1\" class=\"dataframe\">\n",
       "  <thead>\n",
       "    <tr style=\"text-align: right;\">\n",
       "      <th></th>\n",
       "      <th>feature_idx</th>\n",
       "      <th>cv_scores</th>\n",
       "      <th>avg_score</th>\n",
       "      <th>feature_names</th>\n",
       "      <th>ci_bound</th>\n",
       "      <th>std_dev</th>\n",
       "      <th>std_err</th>\n",
       "    </tr>\n",
       "  </thead>\n",
       "  <tbody>\n",
       "    <tr>\n",
       "      <th>1</th>\n",
       "      <td>(2,)</td>\n",
       "      <td>[0.7407237326341474, 0.7248975847536598, 0.749...</td>\n",
       "      <td>0.73795</td>\n",
       "      <td>(Rating,)</td>\n",
       "      <td>0.027576</td>\n",
       "      <td>0.021455</td>\n",
       "      <td>0.010728</td>\n",
       "    </tr>\n",
       "    <tr>\n",
       "      <th>2</th>\n",
       "      <td>(0, 2)</td>\n",
       "      <td>[0.8577587529587389, 0.8516767680979662, 0.888...</td>\n",
       "      <td>0.871336</td>\n",
       "      <td>(Income, Rating)</td>\n",
       "      <td>0.018785</td>\n",
       "      <td>0.014615</td>\n",
       "      <td>0.007308</td>\n",
       "    </tr>\n",
       "    <tr>\n",
       "      <th>3</th>\n",
       "      <td>(0, 2, 7)</td>\n",
       "      <td>[0.9566446620605566, 0.9403639301370201, 0.960...</td>\n",
       "      <td>0.947541</td>\n",
       "      <td>(Income, Rating, Student_Yes)</td>\n",
       "      <td>0.012301</td>\n",
       "      <td>0.009571</td>\n",
       "      <td>0.004785</td>\n",
       "    </tr>\n",
       "  </tbody>\n",
       "</table>\n",
       "</div>"
      ],
      "text/plain": [
       "  feature_idx                                          cv_scores avg_score  \\\n",
       "1        (2,)  [0.7407237326341474, 0.7248975847536598, 0.749...   0.73795   \n",
       "2      (0, 2)  [0.8577587529587389, 0.8516767680979662, 0.888...  0.871336   \n",
       "3   (0, 2, 7)  [0.9566446620605566, 0.9403639301370201, 0.960...  0.947541   \n",
       "\n",
       "                   feature_names  ci_bound   std_dev   std_err  \n",
       "1                      (Rating,)  0.027576  0.021455  0.010728  \n",
       "2               (Income, Rating)  0.018785  0.014615  0.007308  \n",
       "3  (Income, Rating, Student_Yes)  0.012301  0.009571  0.004785  "
      ]
     },
     "execution_count": 45,
     "metadata": {},
     "output_type": "execute_result"
    }
   ],
   "source": [
    "#Visualizing Forward selection results in DataFrames\n",
    "pd.DataFrame.from_dict(sfs_forward.get_metric_dict()).T\n"
   ]
  },
  {
   "cell_type": "code",
   "execution_count": 47,
   "id": "9ef1d5c7-5115-4230-86f3-b9b2df90e807",
   "metadata": {},
   "outputs": [
    {
     "data": {
      "text/html": [
       "<div>\n",
       "<style scoped>\n",
       "    .dataframe tbody tr th:only-of-type {\n",
       "        vertical-align: middle;\n",
       "    }\n",
       "\n",
       "    .dataframe tbody tr th {\n",
       "        vertical-align: top;\n",
       "    }\n",
       "\n",
       "    .dataframe thead th {\n",
       "        text-align: right;\n",
       "    }\n",
       "</style>\n",
       "<table border=\"1\" class=\"dataframe\">\n",
       "  <thead>\n",
       "    <tr style=\"text-align: right;\">\n",
       "      <th></th>\n",
       "      <th>feature_idx</th>\n",
       "      <th>cv_scores</th>\n",
       "      <th>avg_score</th>\n",
       "      <th>feature_names</th>\n",
       "      <th>ci_bound</th>\n",
       "      <th>std_dev</th>\n",
       "      <th>std_err</th>\n",
       "    </tr>\n",
       "  </thead>\n",
       "  <tbody>\n",
       "    <tr>\n",
       "      <th>11</th>\n",
       "      <td>(0, 1, 2, 3, 4, 5, 6, 7, 8, 9, 10)</td>\n",
       "      <td>[0.9577908780308458, 0.9474662999599044, 0.965...</td>\n",
       "      <td>0.950649</td>\n",
       "      <td>(Income, Limit, Rating, Cards, Age, Education,...</td>\n",
       "      <td>0.013089</td>\n",
       "      <td>0.010183</td>\n",
       "      <td>0.005092</td>\n",
       "    </tr>\n",
       "    <tr>\n",
       "      <th>10</th>\n",
       "      <td>(0, 1, 2, 3, 4, 5, 6, 7, 9, 10)</td>\n",
       "      <td>[0.9583833393264942, 0.9483092945635292, 0.965...</td>\n",
       "      <td>0.950925</td>\n",
       "      <td>(Income, Limit, Rating, Cards, Age, Education,...</td>\n",
       "      <td>0.012987</td>\n",
       "      <td>0.010104</td>\n",
       "      <td>0.005052</td>\n",
       "    </tr>\n",
       "    <tr>\n",
       "      <th>9</th>\n",
       "      <td>(0, 1, 2, 3, 4, 5, 7, 9, 10)</td>\n",
       "      <td>[0.9583611188520649, 0.9484428246295533, 0.965...</td>\n",
       "      <td>0.951068</td>\n",
       "      <td>(Income, Limit, Rating, Cards, Age, Education,...</td>\n",
       "      <td>0.012688</td>\n",
       "      <td>0.009872</td>\n",
       "      <td>0.004936</td>\n",
       "    </tr>\n",
       "    <tr>\n",
       "      <th>8</th>\n",
       "      <td>(0, 1, 2, 3, 4, 7, 9, 10)</td>\n",
       "      <td>[0.9583742396420278, 0.9490539116287924, 0.964...</td>\n",
       "      <td>0.951205</td>\n",
       "      <td>(Income, Limit, Rating, Cards, Age, Student_Ye...</td>\n",
       "      <td>0.012616</td>\n",
       "      <td>0.009815</td>\n",
       "      <td>0.004908</td>\n",
       "    </tr>\n",
       "    <tr>\n",
       "      <th>7</th>\n",
       "      <td>(0, 1, 2, 3, 4, 7, 9)</td>\n",
       "      <td>[0.9579631467025298, 0.9487552740452087, 0.965...</td>\n",
       "      <td>0.951356</td>\n",
       "      <td>(Income, Limit, Rating, Cards, Age, Student_Ye...</td>\n",
       "      <td>0.012535</td>\n",
       "      <td>0.009752</td>\n",
       "      <td>0.004876</td>\n",
       "    </tr>\n",
       "    <tr>\n",
       "      <th>6</th>\n",
       "      <td>(0, 1, 2, 3, 4, 7)</td>\n",
       "      <td>[0.9580046165676231, 0.9492298699636939, 0.965...</td>\n",
       "      <td>0.951541</td>\n",
       "      <td>(Income, Limit, Rating, Cards, Age, Student_Yes)</td>\n",
       "      <td>0.012502</td>\n",
       "      <td>0.009727</td>\n",
       "      <td>0.004863</td>\n",
       "    </tr>\n",
       "    <tr>\n",
       "      <th>5</th>\n",
       "      <td>(0, 1, 3, 4, 7)</td>\n",
       "      <td>[0.9564590574708799, 0.9517819620241795, 0.964...</td>\n",
       "      <td>0.951166</td>\n",
       "      <td>(Income, Limit, Cards, Age, Student_Yes)</td>\n",
       "      <td>0.012499</td>\n",
       "      <td>0.009725</td>\n",
       "      <td>0.004862</td>\n",
       "    </tr>\n",
       "    <tr>\n",
       "      <th>4</th>\n",
       "      <td>(0, 1, 3, 7)</td>\n",
       "      <td>[0.95564231752239, 0.9511325870086168, 0.96457...</td>\n",
       "      <td>0.950652</td>\n",
       "      <td>(Income, Limit, Cards, Student_Yes)</td>\n",
       "      <td>0.012406</td>\n",
       "      <td>0.009652</td>\n",
       "      <td>0.004826</td>\n",
       "    </tr>\n",
       "    <tr>\n",
       "      <th>3</th>\n",
       "      <td>(0, 1, 7)</td>\n",
       "      <td>[0.9542263819762833, 0.9469098083489705, 0.956...</td>\n",
       "      <td>0.945932</td>\n",
       "      <td>(Income, Limit, Student_Yes)</td>\n",
       "      <td>0.013434</td>\n",
       "      <td>0.010452</td>\n",
       "      <td>0.005226</td>\n",
       "    </tr>\n",
       "    <tr>\n",
       "      <th>2</th>\n",
       "      <td>(0, 1)</td>\n",
       "      <td>[0.8565793925794394, 0.8605549030280242, 0.872...</td>\n",
       "      <td>0.866297</td>\n",
       "      <td>(Income, Limit)</td>\n",
       "      <td>0.013519</td>\n",
       "      <td>0.010519</td>\n",
       "      <td>0.005259</td>\n",
       "    </tr>\n",
       "    <tr>\n",
       "      <th>1</th>\n",
       "      <td>(1,)</td>\n",
       "      <td>[0.7391610928571092, 0.7296582367625271, 0.735...</td>\n",
       "      <td>0.733942</td>\n",
       "      <td>(Limit,)</td>\n",
       "      <td>0.021829</td>\n",
       "      <td>0.016984</td>\n",
       "      <td>0.008492</td>\n",
       "    </tr>\n",
       "  </tbody>\n",
       "</table>\n",
       "</div>"
      ],
      "text/plain": [
       "                           feature_idx  \\\n",
       "11  (0, 1, 2, 3, 4, 5, 6, 7, 8, 9, 10)   \n",
       "10     (0, 1, 2, 3, 4, 5, 6, 7, 9, 10)   \n",
       "9         (0, 1, 2, 3, 4, 5, 7, 9, 10)   \n",
       "8            (0, 1, 2, 3, 4, 7, 9, 10)   \n",
       "7                (0, 1, 2, 3, 4, 7, 9)   \n",
       "6                   (0, 1, 2, 3, 4, 7)   \n",
       "5                      (0, 1, 3, 4, 7)   \n",
       "4                         (0, 1, 3, 7)   \n",
       "3                            (0, 1, 7)   \n",
       "2                               (0, 1)   \n",
       "1                                 (1,)   \n",
       "\n",
       "                                            cv_scores avg_score  \\\n",
       "11  [0.9577908780308458, 0.9474662999599044, 0.965...  0.950649   \n",
       "10  [0.9583833393264942, 0.9483092945635292, 0.965...  0.950925   \n",
       "9   [0.9583611188520649, 0.9484428246295533, 0.965...  0.951068   \n",
       "8   [0.9583742396420278, 0.9490539116287924, 0.964...  0.951205   \n",
       "7   [0.9579631467025298, 0.9487552740452087, 0.965...  0.951356   \n",
       "6   [0.9580046165676231, 0.9492298699636939, 0.965...  0.951541   \n",
       "5   [0.9564590574708799, 0.9517819620241795, 0.964...  0.951166   \n",
       "4   [0.95564231752239, 0.9511325870086168, 0.96457...  0.950652   \n",
       "3   [0.9542263819762833, 0.9469098083489705, 0.956...  0.945932   \n",
       "2   [0.8565793925794394, 0.8605549030280242, 0.872...  0.866297   \n",
       "1   [0.7391610928571092, 0.7296582367625271, 0.735...  0.733942   \n",
       "\n",
       "                                        feature_names  ci_bound   std_dev  \\\n",
       "11  (Income, Limit, Rating, Cards, Age, Education,...  0.013089  0.010183   \n",
       "10  (Income, Limit, Rating, Cards, Age, Education,...  0.012987  0.010104   \n",
       "9   (Income, Limit, Rating, Cards, Age, Education,...  0.012688  0.009872   \n",
       "8   (Income, Limit, Rating, Cards, Age, Student_Ye...  0.012616  0.009815   \n",
       "7   (Income, Limit, Rating, Cards, Age, Student_Ye...  0.012535  0.009752   \n",
       "6    (Income, Limit, Rating, Cards, Age, Student_Yes)  0.012502  0.009727   \n",
       "5            (Income, Limit, Cards, Age, Student_Yes)  0.012499  0.009725   \n",
       "4                 (Income, Limit, Cards, Student_Yes)  0.012406  0.009652   \n",
       "3                        (Income, Limit, Student_Yes)  0.013434  0.010452   \n",
       "2                                     (Income, Limit)  0.013519  0.010519   \n",
       "1                                            (Limit,)  0.021829  0.016984   \n",
       "\n",
       "     std_err  \n",
       "11  0.005092  \n",
       "10  0.005052  \n",
       "9   0.004936  \n",
       "8   0.004908  \n",
       "7   0.004876  \n",
       "6   0.004863  \n",
       "5   0.004862  \n",
       "4   0.004826  \n",
       "3   0.005226  \n",
       "2   0.005259  \n",
       "1   0.008492  "
      ]
     },
     "execution_count": 47,
     "metadata": {},
     "output_type": "execute_result"
    }
   ],
   "source": [
    "#Visualizing Backward selection results in DataFrames\n",
    "pd.DataFrame.from_dict(sfs_backward.get_metric_dict()).T"
   ]
  },
  {
   "cell_type": "code",
   "execution_count": 49,
   "id": "7f77ae7f-9915-4e0b-adab-8a7e45770f41",
   "metadata": {},
   "outputs": [
    {
     "data": {
      "image/png": "[encoded data removed]",
      "text/plain": [
       "<Figure size 640x480 with 1 Axes>"
      ]
     },
     "metadata": {},
     "output_type": "display_data"
    }
   ],
   "source": [
    "#Plotting results for model selection\n",
    "from mlxtend.plotting import plot_sequential_feature_selection as plot_sfs\n",
    "import matplotlib.pyplot as plt\n",
    "#Plotting the results for forward selection when k = 6\n",
    "sfs_forward = SequentialFeatureSelector(model, k_features=6, forward=True, floating=False,\n",
    "scoring='r2', cv=5)\n",
    "sfs_forward.fit(X, Y)\n",
    "fig1 = plot_sfs(sfs_forward.get_metric_dict(), kind='std_dev')\n",
    "plt.ylim([0.7, 1])\n",
    "plt.title('Sequential Backward Selection (w. StdDev)')\n",
    "plt.grid()\n",
    "plt.show()"
   ]
  },
  {
   "cell_type": "code",
   "execution_count": 51,
   "id": "14ec3239-f6f5-4d46-bf7a-24631346ac92",
   "metadata": {},
   "outputs": [
    {
     "data": {
      "image/png": "[encoded data removed]",
      "text/plain": [
       "<Figure size 640x480 with 1 Axes>"
      ]
     },
     "metadata": {},
     "output_type": "display_data"
    }
   ],
   "source": [
    "#Plotting the results for backward selection when k = 6\n",
    "sfs_backward = SequentialFeatureSelector(model, k_features=3, forward=False, floating=False,\n",
    "scoring='r2', cv=5)\n",
    "sfs_backward.fit(X, Y)\n",
    "fig1 = plot_sfs(sfs_backward.get_metric_dict(), kind='std_dev')\n",
    "plt.ylim([0.7, 1])\n",
    "plt.title('Sequential Backward Selection (w. StdDev)')\n",
    "plt.grid()\n",
    "plt.show()"
   ]
  },
  {
   "cell_type": "code",
   "execution_count": null,
   "id": "d9cff60b-7989-40af-ad71-d33cb0348903",
   "metadata": {},
   "outputs": [],
   "source": []
  }
 ],
 "metadata": {
  "kernelspec": {
   "display_name": "Python 3 (ipykernel)",
   "language": "python",
   "name": "python3"
  },
  "language_info": {
   "codemirror_mode": {
    "name": "ipython",
    "version": 3
   },
   "file_extension": ".py",
   "mimetype": "text/x-python",
   "name": "python",
   "nbconvert_exporter": "python",
   "pygments_lexer": "ipython3",
   "version": "3.11.7"
  }
 },
 "nbformat": 4,
 "nbformat_minor": 5
}
